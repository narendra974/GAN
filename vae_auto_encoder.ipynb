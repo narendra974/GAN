{
  "nbformat": 4,
  "nbformat_minor": 0,
  "metadata": {
    "colab": {
      "name": "Untitled3.ipynb",
      "provenance": [],
      "collapsed_sections": [],
      "authorship_tag": "ABX9TyMTZTkyTN8DvpGBGVcO7D/P",
      "include_colab_link": true
    },
    "kernelspec": {
      "name": "python3",
      "display_name": "Python 3"
    },
    "language_info": {
      "name": "python"
    }
  },
  "cells": [
    {
      "cell_type": "markdown",
      "metadata": {
        "id": "view-in-github",
        "colab_type": "text"
      },
      "source": [
        "<a href=\"https://colab.research.google.com/github/narendra974/GAN/blob/main/vae_auto_encoder.ipynb\" target=\"_parent\"><img src=\"https://colab.research.google.com/assets/colab-badge.svg\" alt=\"Open In Colab\"/></a>"
      ]
    },
    {
      "cell_type": "code",
      "execution_count": null,
      "metadata": {
        "id": "Xr9xVGtdg-ez"
      },
      "outputs": [],
      "source": [
        "from keras.layers import Input, Dense, Lambda\n",
        "from keras.models import Model\n",
        "from keras import backend as K\n",
        "from keras.datasets import mnist\n",
        "import numpy as np\n"
      ]
    },
    {
      "cell_type": "code",
      "source": [
        "batch_size = 100\n",
        "original_dim = 28*28\n",
        "latent_dim = 2\n",
        "intermediate_dim = 256\n",
        "nb_epoch = 5\n",
        "epsilon_std = 1.0"
      ],
      "metadata": {
        "id": "ai-8E2pwhvMC"
      },
      "execution_count": null,
      "outputs": []
    },
    {
      "cell_type": "code",
      "source": [
        "def Sampling(args):\n",
        "  z_mean, z_log_var  = args\n",
        "  epsilon = K.random_normal(shape=(batch_size, latent_dim), mean=0)\n",
        "  return z_mean + K.exp(z_log_var/2) * epsilon\n",
        "\n",
        "\n",
        "x = Input(shape=original_dim, name=\"input\")\n",
        "h = Dense(intermediate_dim, activation='relu', name='encoding')(x)\n",
        "z_mean = Dense(latent_dim, name='mean')(h)\n",
        "z_variance = Dense(latent_dim, name='log-variance')(h)\n",
        "z=Lambda(Sampling, output_shape=(latent_dim, ))([z_mean, z_variance])\n",
        "encoder = Model(x, [z_mean, z_variance, z], name=\"encoder\")"
      ],
      "metadata": {
        "id": "gIuG0AptjK4w"
      },
      "execution_count": null,
      "outputs": []
    },
    {
      "cell_type": "code",
      "source": [
        "input_decoder = Input(shape=(latent_dim, ), name='decoder_input')\n",
        "decoder_h = Dense(intermediate_dim, activation='relu', name='decoder_h')(input_decoder)\n",
        "x_decoded = Dense(original_dim, activation='sigmoid', name='flat_decoded')(decoder_h)\n",
        "decoder = Model(input_decoder, x_decoded, name='decoder')"
      ],
      "metadata": {
        "id": "V294egoDTdO-"
      },
      "execution_count": null,
      "outputs": []
    },
    {
      "cell_type": "code",
      "source": [
        "def vae_loss(x, x_decoded_mean, z_log_var, x_mean, original_dim):"
      ],
      "metadata": {
        "id": "o9oC0zPqihAC"
      },
      "execution_count": null,
      "outputs": []
    }
  ]
}