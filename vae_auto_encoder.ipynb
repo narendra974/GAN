{
  "nbformat": 4,
  "nbformat_minor": 0,
  "metadata": {
    "colab": {
      "name": "Untitled3.ipynb",
      "provenance": [],
      "collapsed_sections": [],
      "authorship_tag": "ABX9TyNqSwiARJIMYST/gkUvC49K",
      "include_colab_link": true
    },
    "kernelspec": {
      "name": "python3",
      "display_name": "Python 3"
    },
    "language_info": {
      "name": "python"
    }
  },
  "cells": [
    {
      "cell_type": "markdown",
      "metadata": {
        "id": "view-in-github",
        "colab_type": "text"
      },
      "source": [
        "<a href=\"https://colab.research.google.com/github/narendra974/GAN/blob/main/vae_auto_encoder.ipynb\" target=\"_parent\"><img src=\"https://colab.research.google.com/assets/colab-badge.svg\" alt=\"Open In Colab\"/></a>"
      ]
    },
    {
      "cell_type": "code",
      "execution_count": 1,
      "metadata": {
        "id": "Xr9xVGtdg-ez"
      },
      "outputs": [],
      "source": [
        "from keras.layers import Input, Dense, Lambda\n",
        "from keras.models import Model\n",
        "from keras import backend as K\n",
        "from keras.datasets import mnist\n",
        "import numpy as np\n",
        "import tensorflow as tf\n",
        "from keras.metrics import binary_crossentropy"
      ]
    },
    {
      "cell_type": "code",
      "source": [
        "from tensorflow.python.framework.ops import disable_eager_execution\n",
        "disable_eager_execution()"
      ],
      "metadata": {
        "id": "ZRXmSb8s32ZC"
      },
      "execution_count": 2,
      "outputs": []
    },
    {
      "cell_type": "code",
      "source": [
        "batch_size = 100\n",
        "original_dim = 784\n",
        "latent_dim = 2\n",
        "intermediate_dim = 256\n",
        "nb_epoch = 50\n",
        "epsilon_std = 1.0"
      ],
      "metadata": {
        "id": "ai-8E2pwhvMC"
      },
      "execution_count": 3,
      "outputs": []
    },
    {
      "cell_type": "code",
      "source": [
        "def Sampling(args: tuple):\n",
        "  z_mean, z_log_var  = args\n",
        "  epsilon = K.random_normal(shape=(K.shape(z_mean)[0], latent_dim), mean=0., stddev=epsilon_std)\n",
        "  return z_mean + K.exp(z_log_var / 2) * epsilon"
      ],
      "metadata": {
        "id": "223Rd9aBxnol"
      },
      "execution_count": 4,
      "outputs": []
    },
    {
      "cell_type": "code",
      "source": [
        "x = Input(shape=(original_dim), dtype='float32', name=\"input\")\n",
        "h = Dense(intermediate_dim, activation='relu', name='encoding')(x)\n",
        "z_mean = Dense(latent_dim, name='mean')(h)\n",
        "z_log_var = Dense(latent_dim, name='log-variance')(h)\n",
        "z=Lambda(Sampling, output_shape=(latent_dim, ))([z_mean, z_log_var])\n",
        "encoder = Model(x, [z_mean, z_log_var, z], name=\"encoder\")\n",
        "\n",
        "encoder.summary()"
      ],
      "metadata": {
        "id": "gIuG0AptjK4w",
        "colab": {
          "base_uri": "https://localhost:8080/"
        },
        "outputId": "81cc8c3f-ce36-455e-ca27-dde7478b8daa"
      },
      "execution_count": 5,
      "outputs": [
        {
          "output_type": "stream",
          "name": "stdout",
          "text": [
            "Model: \"encoder\"\n",
            "__________________________________________________________________________________________________\n",
            " Layer (type)                   Output Shape         Param #     Connected to                     \n",
            "==================================================================================================\n",
            " input (InputLayer)             [(None, 784)]        0           []                               \n",
            "                                                                                                  \n",
            " encoding (Dense)               (None, 256)          200960      ['input[0][0]']                  \n",
            "                                                                                                  \n",
            " mean (Dense)                   (None, 2)            514         ['encoding[0][0]']               \n",
            "                                                                                                  \n",
            " log-variance (Dense)           (None, 2)            514         ['encoding[0][0]']               \n",
            "                                                                                                  \n",
            " lambda (Lambda)                (None, 2)            0           ['mean[0][0]',                   \n",
            "                                                                  'log-variance[0][0]']           \n",
            "                                                                                                  \n",
            "==================================================================================================\n",
            "Total params: 201,988\n",
            "Trainable params: 201,988\n",
            "Non-trainable params: 0\n",
            "__________________________________________________________________________________________________\n"
          ]
        }
      ]
    },
    {
      "cell_type": "code",
      "source": [
        ""
      ],
      "metadata": {
        "id": "mkuwJf1Ywx9G"
      },
      "execution_count": 5,
      "outputs": []
    },
    {
      "cell_type": "code",
      "source": [
        "input_decoder = Input(shape=(latent_dim), dtype='float32', name='decoder_input')\n",
        "decoder_h = Dense(intermediate_dim, activation='relu', name='decoder_h')(input_decoder)\n",
        "x_decoded = Dense(original_dim, activation='sigmoid', name='flat_decoded')(decoder_h)\n",
        "decoder = Model(input_decoder, x_decoded, name='decoder')\n",
        "\n",
        "decoder.summary()"
      ],
      "metadata": {
        "id": "V294egoDTdO-",
        "colab": {
          "base_uri": "https://localhost:8080/"
        },
        "outputId": "c0fd61eb-324e-4dde-c4e5-80f43e4fbfdf"
      },
      "execution_count": 6,
      "outputs": [
        {
          "output_type": "stream",
          "name": "stdout",
          "text": [
            "Model: \"decoder\"\n",
            "_________________________________________________________________\n",
            " Layer (type)                Output Shape              Param #   \n",
            "=================================================================\n",
            " decoder_input (InputLayer)  [(None, 2)]               0         \n",
            "                                                                 \n",
            " decoder_h (Dense)           (None, 256)               768       \n",
            "                                                                 \n",
            " flat_decoded (Dense)        (None, 784)               201488    \n",
            "                                                                 \n",
            "=================================================================\n",
            "Total params: 202,256\n",
            "Trainable params: 202,256\n",
            "Non-trainable params: 0\n",
            "_________________________________________________________________\n"
          ]
        }
      ]
    },
    {
      "cell_type": "code",
      "source": [
        "output_combined = decoder(encoder(x)[2])\n",
        "vae = Model(x, output_combined)\n",
        "vae.summary()"
      ],
      "metadata": {
        "colab": {
          "base_uri": "https://localhost:8080/"
        },
        "id": "NuX2nLwvynE0",
        "outputId": "f94151e7-5a88-43b9-b65e-6a668373e07a"
      },
      "execution_count": 7,
      "outputs": [
        {
          "output_type": "stream",
          "name": "stdout",
          "text": [
            "Model: \"model\"\n",
            "_________________________________________________________________\n",
            " Layer (type)                Output Shape              Param #   \n",
            "=================================================================\n",
            " input (InputLayer)          [(None, 784)]             0         \n",
            "                                                                 \n",
            " encoder (Functional)        [(None, 2),               201988    \n",
            "                              (None, 2),                         \n",
            "                              (None, 2)]                         \n",
            "                                                                 \n",
            " decoder (Functional)        (None, 784)               202256    \n",
            "                                                                 \n",
            "=================================================================\n",
            "Total params: 404,244\n",
            "Trainable params: 404,244\n",
            "Non-trainable params: 0\n",
            "_________________________________________________________________\n"
          ]
        }
      ]
    },
    {
      "cell_type": "code",
      "source": [
        "def vae_loss(x:tf.Tensor, x_decoded_mean:tf.Tensor, z_log_var=z_log_var, z_mean=z_mean, original_dim=original_dim):\n",
        "  xent_loss = original_dim * binary_crossentropy(x, x_decoded_mean)\n",
        "  kl_loss = - 0.5 * K.sum(1 + z_log_var - K.square(z_mean) - K.exp(z_log_var), axis=-1)\n",
        "  return xent_loss + kl_loss"
      ],
      "metadata": {
        "id": "lqUqfDJaywTe"
      },
      "execution_count": 8,
      "outputs": []
    },
    {
      "cell_type": "code",
      "source": [
        "vae.compile(optimizer='rmsprop', loss=vae_loss)\n",
        "\n",
        "for layer in vae.layers:\n",
        "    print(layer.name)"
      ],
      "metadata": {
        "id": "o9oC0zPqihAC",
        "outputId": "4c08c449-a95f-4d90-cdc0-fc399f8790b3",
        "colab": {
          "base_uri": "https://localhost:8080/"
        }
      },
      "execution_count": 9,
      "outputs": [
        {
          "output_type": "stream",
          "name": "stdout",
          "text": [
            "input\n",
            "encoder\n",
            "decoder\n"
          ]
        }
      ]
    },
    {
      "cell_type": "code",
      "source": [
        "(x_train,y_train), (x_test, y_test) = mnist.load_data()\n",
        "\n",
        "x_train = x_train.astype('float32') / 255\n",
        "x_test = x_test.astype('float32') / 255\n",
        "x_train = x_train.reshape((len(x_train), np.prod(x_train.shape[1:])))\n",
        "x_test = x_test.reshape((len(x_test), np.prod(x_test.shape[1:])))\n",
        "\n",
        "print(x_train.shape)\n",
        "print(type(x_train))\n",
        "vae.fit(x_train, x_train, shuffle=True, epochs=nb_epoch, batch_size=batch_size)"
      ],
      "metadata": {
        "id": "KDyW0fZdbhSa",
        "outputId": "504955a9-8b4c-4d04-9b3e-921b40720e99",
        "colab": {
          "base_uri": "https://localhost:8080/"
        }
      },
      "execution_count": 10,
      "outputs": [
        {
          "output_type": "stream",
          "name": "stdout",
          "text": [
            "(60000, 784)\n",
            "<class 'numpy.ndarray'>\n",
            "Train on 60000 samples\n",
            "Epoch 1/50\n",
            "60000/60000 [==============================] - 17s 276us/sample - loss: 190.3301\n",
            "Epoch 2/50\n",
            "60000/60000 [==============================] - 11s 188us/sample - loss: 170.3007\n",
            "Epoch 3/50\n",
            "60000/60000 [==============================] - 9s 158us/sample - loss: 166.7054\n",
            "Epoch 4/50\n",
            "60000/60000 [==============================] - 9s 154us/sample - loss: 164.6196\n",
            "Epoch 5/50\n",
            "60000/60000 [==============================] - 9s 156us/sample - loss: 163.1717\n",
            "Epoch 6/50\n",
            "60000/60000 [==============================] - 9s 155us/sample - loss: 161.9819\n",
            "Epoch 7/50\n",
            "60000/60000 [==============================] - 9s 155us/sample - loss: 160.9147\n",
            "Epoch 8/50\n",
            "60000/60000 [==============================] - 9s 156us/sample - loss: 159.9145\n",
            "Epoch 9/50\n",
            "60000/60000 [==============================] - 10s 159us/sample - loss: 158.9608\n",
            "Epoch 10/50\n",
            "60000/60000 [==============================] - 9s 157us/sample - loss: 158.0791\n",
            "Epoch 11/50\n",
            "60000/60000 [==============================] - 10s 162us/sample - loss: 157.3132\n",
            "Epoch 12/50\n",
            "60000/60000 [==============================] - 9s 155us/sample - loss: 156.6855\n",
            "Epoch 13/50\n",
            "60000/60000 [==============================] - 10s 171us/sample - loss: 156.1163\n",
            "Epoch 14/50\n",
            "60000/60000 [==============================] - 9s 158us/sample - loss: 155.6596\n",
            "Epoch 15/50\n",
            "60000/60000 [==============================] - 10s 159us/sample - loss: 155.2058\n",
            "Epoch 16/50\n",
            "60000/60000 [==============================] - 9s 158us/sample - loss: 154.8086\n",
            "Epoch 17/50\n",
            "60000/60000 [==============================] - 10s 158us/sample - loss: 154.4538\n",
            "Epoch 18/50\n",
            "60000/60000 [==============================] - 9s 158us/sample - loss: 154.1399\n",
            "Epoch 19/50\n",
            "60000/60000 [==============================] - 9s 158us/sample - loss: 153.8339\n",
            "Epoch 20/50\n",
            "60000/60000 [==============================] - 10s 163us/sample - loss: 153.5615\n",
            "Epoch 21/50\n",
            "60000/60000 [==============================] - 10s 160us/sample - loss: 153.3001\n",
            "Epoch 22/50\n",
            "60000/60000 [==============================] - 9s 157us/sample - loss: 153.0563\n",
            "Epoch 23/50\n",
            "60000/60000 [==============================] - 10s 158us/sample - loss: 152.8397\n",
            "Epoch 24/50\n",
            "60000/60000 [==============================] - 10s 159us/sample - loss: 152.6354\n",
            "Epoch 25/50\n",
            "60000/60000 [==============================] - 9s 157us/sample - loss: 152.4583\n",
            "Epoch 26/50\n",
            "60000/60000 [==============================] - 10s 162us/sample - loss: 152.2667\n",
            "Epoch 27/50\n",
            "60000/60000 [==============================] - 9s 158us/sample - loss: 152.0771\n",
            "Epoch 28/50\n",
            "60000/60000 [==============================] - 9s 157us/sample - loss: 151.9374\n",
            "Epoch 29/50\n",
            "60000/60000 [==============================] - 9s 158us/sample - loss: 151.7448\n",
            "Epoch 30/50\n",
            "60000/60000 [==============================] - 9s 157us/sample - loss: 151.5948\n",
            "Epoch 31/50\n",
            "60000/60000 [==============================] - 9s 158us/sample - loss: 151.4795\n",
            "Epoch 32/50\n",
            "60000/60000 [==============================] - 10s 161us/sample - loss: 151.3261\n",
            "Epoch 33/50\n",
            "60000/60000 [==============================] - 10s 160us/sample - loss: 151.1614\n",
            "Epoch 34/50\n",
            "60000/60000 [==============================] - 10s 161us/sample - loss: 151.0642\n",
            "Epoch 35/50\n",
            "60000/60000 [==============================] - 10s 159us/sample - loss: 150.9053\n",
            "Epoch 36/50\n",
            "60000/60000 [==============================] - 9s 157us/sample - loss: 150.7832\n",
            "Epoch 37/50\n",
            "60000/60000 [==============================] - 10s 159us/sample - loss: 150.6597\n",
            "Epoch 38/50\n",
            "60000/60000 [==============================] - 9s 157us/sample - loss: 150.5928\n",
            "Epoch 39/50\n",
            "60000/60000 [==============================] - 9s 158us/sample - loss: 150.4483\n",
            "Epoch 40/50\n",
            "60000/60000 [==============================] - 10s 161us/sample - loss: 150.3205\n",
            "Epoch 41/50\n",
            "60000/60000 [==============================] - 9s 158us/sample - loss: 150.2471\n",
            "Epoch 42/50\n",
            "60000/60000 [==============================] - 10s 158us/sample - loss: 150.1406\n",
            "Epoch 43/50\n",
            "60000/60000 [==============================] - 10s 159us/sample - loss: 150.0499\n",
            "Epoch 44/50\n",
            "60000/60000 [==============================] - 10s 160us/sample - loss: 149.9319\n",
            "Epoch 45/50\n",
            "60000/60000 [==============================] - 10s 159us/sample - loss: 149.8453\n",
            "Epoch 46/50\n",
            "60000/60000 [==============================] - 10s 158us/sample - loss: 149.7769\n",
            "Epoch 47/50\n",
            "60000/60000 [==============================] - 10s 159us/sample - loss: 149.6498\n",
            "Epoch 48/50\n",
            "60000/60000 [==============================] - 10s 158us/sample - loss: 149.5549\n",
            "Epoch 49/50\n",
            "60000/60000 [==============================] - 9s 157us/sample - loss: 149.5179\n",
            "Epoch 50/50\n",
            "60000/60000 [==============================] - 9s 157us/sample - loss: 149.4408\n"
          ]
        },
        {
          "output_type": "execute_result",
          "data": {
            "text/plain": [
              "<keras.callbacks.History at 0x7f2d2531fed0>"
            ]
          },
          "metadata": {},
          "execution_count": 10
        }
      ]
    },
    {
      "cell_type": "code",
      "source": [
        "import matplotlib.pyplot as plt\n",
        "\n",
        "x_test_encoded = encoder.predict(x_test, batch_size=batch_size)[0]\n",
        "plt.figure(figsize=(6, 6))\n",
        "plt.scatter(x_test_encoded[:, 0], x_test_encoded[:, 1], c=y_test, cmap='viridis')\n",
        "plt.colorbar()\n",
        "plt.show()\n"
      ],
      "metadata": {
        "id": "m3jTi8xs7aMo",
        "outputId": "f840ba7c-1e0d-44df-cc3e-0f20fbf5e5d3",
        "colab": {
          "base_uri": "https://localhost:8080/",
          "height": 433
        }
      },
      "execution_count": 11,
      "outputs": [
        {
          "output_type": "stream",
          "name": "stderr",
          "text": [
            "/usr/local/lib/python3.7/dist-packages/keras/engine/training_v1.py:2079: UserWarning: `Model.state_updates` will be removed in a future version. This property should not be used in TensorFlow 2.0, as `updates` are applied automatically.\n",
            "  updates=self.state_updates,\n"
          ]
        },
        {
          "output_type": "display_data",
          "data": {
            "image/png": "[encoded data removed]",
            "text/plain": [
              "<Figure size 432x432 with 2 Axes>"
            ]
          },
          "metadata": {
            "needs_background": "light"
          }
        }
      ]
    },
    {
      "cell_type": "code",
      "source": [
        "n = 15\n",
        "digit_size = 28\n",
        "figure = np.zeros((digit_size*n, digit_size*n ))\n",
        "\n"
      ],
      "metadata": {
        "id": "GCXmm2SeH9Lf"
      },
      "execution_count": null,
      "outputs": []
    }
  ]
}